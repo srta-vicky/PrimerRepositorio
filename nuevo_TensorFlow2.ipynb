{
 "cells": [
  {
   "cell_type": "code",
   "execution_count": 1,
   "metadata": {
    "colab": {},
    "colab_type": "code",
    "id": "jz-fvKvlNfLN"
   },
   "outputs": [],
   "source": [
    "from sklearn import preprocessing\n",
    "import matplotlib.pyplot as plt\n",
    "import numpy as np\n",
    "import pandas as pd\n",
    "import shutil\n",
    "import os\n",
    "import requests\n",
    "import base64\n",
    "\n",
    "\n",
    "# Encode text values to dummy variables(i.e. [1,0,0],[0,1,0],[0,0,1] for red,green,blue)\n",
    "def encode_text_dummy(df, name):\n",
    "    dummies = pd.get_dummies(df[name])\n",
    "    for x in dummies.columns:\n",
    "        dummy_name = \"{}-{}\".format(name, x)\n",
    "        df[dummy_name] = dummies[x]\n",
    "    df.drop(name, axis=1, inplace=True)\n",
    "\n",
    "\n",
    "# Encode text values to a single dummy variable.  The new columns (which do not replace the old) will have a 1\n",
    "# at every location where the original column (name) matches each of the target_values.  One column is added for\n",
    "# each target value.\n",
    "def encode_text_single_dummy(df, name, target_values):\n",
    "    for tv in target_values:\n",
    "        l = list(df[name].astype(str))\n",
    "        l = [1 if str(x) == str(tv) else 0 for x in l]\n",
    "        name2 = \"{}-{}\".format(name, tv)\n",
    "        df[name2] = l\n",
    "\n",
    "\n",
    "# Encode text values to indexes(i.e. [1],[2],[3] for red,green,blue).\n",
    "def encode_text_index(df, name):\n",
    "    le = preprocessing.LabelEncoder()\n",
    "    df[name] = le.fit_transform(df[name])\n",
    "    return le.classes_\n",
    "\n",
    "\n",
    "# Encode a numeric column as zscores\n",
    "def encode_numeric_zscore(df, name, mean=None, sd=None):\n",
    "    if mean is None:\n",
    "        mean = df[name].mean()\n",
    "\n",
    "    if sd is None:\n",
    "        sd = df[name].std()\n",
    "\n",
    "    df[name] = (df[name] - mean) / sd\n",
    "\n",
    "\n",
    "# Convert all missing values in the specified column to the median\n",
    "def missing_median(df, name):\n",
    "    med = df[name].median()\n",
    "    df[name] = df[name].fillna(med)\n",
    "\n",
    "\n",
    "# Convert all missing values in the specified column to the default\n",
    "def missing_default(df, name, default_value):\n",
    "    df[name] = df[name].fillna(default_value)\n",
    "\n",
    "\n",
    "# Convert a Pandas dataframe to the x,y inputs that TensorFlow needs\n",
    "def to_xy(df, target):\n",
    "    result = []\n",
    "    for x in df.columns:\n",
    "        if x != target:\n",
    "            result.append(x)\n",
    "    # find out the type of the target column.  Is it really this hard? :(\n",
    "    target_type = df[target].dtypes\n",
    "    target_type = target_type[0] if hasattr(target_type, '__iter__') else target_type\n",
    "    # Encode to int for classification, float otherwise. TensorFlow likes 32 bits.\n",
    "    if target_type in (np.int64, np.int32):\n",
    "        # Classification\n",
    "        dummies = pd.get_dummies(df[target])\n",
    "        return df.as_matrix(result).astype(np.float32), dummies.as_matrix().astype(np.float32)\n",
    "    else:\n",
    "        # Regression\n",
    "        return df.as_matrix(result).astype(np.float32), df.as_matrix([target]).astype(np.float32)\n",
    "\n",
    "# Nicely formatted time string\n",
    "def hms_string(sec_elapsed):\n",
    "    h = int(sec_elapsed / (60 * 60))\n",
    "    m = int((sec_elapsed % (60 * 60)) / 60)\n",
    "    s = sec_elapsed % 60\n",
    "    return \"{}:{:>02}:{:>05.2f}\".format(h, m, s)\n",
    "\n",
    "\n",
    "# Regression chart.\n",
    "def chart_regression(pred,y,sort=True):\n",
    "    t = pd.DataFrame({'pred' : pred, 'y' : y.flatten()})\n",
    "    if sort:\n",
    "        t.sort_values(by=['y'],inplace=True)\n",
    "    a = plt.plot(t['y'].tolist(),label='expected')\n",
    "    b = plt.plot(t['pred'].tolist(),label='prediction')\n",
    "    plt.ylabel('output')\n",
    "    plt.legend()\n",
    "    plt.show()\n",
    "\n",
    "# Remove all rows where the specified column is +/- sd standard deviations\n",
    "def remove_outliers(df, name, sd):\n",
    "    drop_rows = df.index[(np.abs(df[name] - df[name].mean()) >= (sd * df[name].std()))]\n",
    "    df.drop(drop_rows, axis=0, inplace=True)\n",
    "\n",
    "\n",
    "# Encode a column to a range between normalized_low and normalized_high.\n",
    "def encode_numeric_range(df, name, normalized_low=-1, normalized_high=1,\n",
    "                         data_low=None, data_high=None):\n",
    "    if data_low is None:\n",
    "        data_low = min(df[name])\n",
    "        data_high = max(df[name])\n",
    "\n",
    "    df[name] = ((df[name] - data_low) / (data_high - data_low)) \\\n",
    "               * (normalized_high - normalized_low) + normalized_low\n",
    "        \n",
    "# This function submits an assignment.  You can submit an assignment as much as you like, only the final\n",
    "# submission counts.  The paramaters are as follows:\n",
    "# data - Pandas dataframe output.\n",
    "# key - Your student key that was emailed to you.\n",
    "# no - The assignment class number, should be 1 through 1.\n",
    "# source_file - The full path to your Python or IPYNB file.  This must have \"_class1\" as part of its name.  \n",
    "# .             The number must match your assignment number.  For example \"_class2\" for class assignment #2.\n",
    "def submit(data,key,no,source_file=None):\n",
    "    if source_file is None and '__file__' not in globals(): raise Exception('Must specify a filename when a Jupyter notebook.')\n",
    "    if source_file is None: source_file = __file__\n",
    "    suffix = '_class{}'.format(no)\n",
    "    if suffix not in source_file: raise Exception('{} must be part of the filename.'.format(suffix))\n",
    "    with open(source_file, \"rb\") as image_file:\n",
    "        encoded_python = base64.b64encode(image_file.read()).decode('ascii')\n",
    "    ext = os.path.splitext(source_file)[-1].lower()\n",
    "    if ext not in ['.ipynb','.py']: raise Exception(\"Source file is {} must be .py or .ipynb\".format(ext))\n",
    "    r = requests.post(\"https://api.heatonresearch.com/assignment-submit\",\n",
    "        headers={'x-api-key':key}, json={'csv':base64.b64encode(data.to_csv(index=False).encode('ascii')).decode(\"ascii\"),\n",
    "        'assignment': no, 'ext':ext, 'py':encoded_python})\n",
    "    if r.status_code == 200:\n",
    "        print(\"Success: {}\".format(r.text))\n",
    "    else: print(\"Failure: {}\".format(r.text))"
   ]
  },
  {
   "cell_type": "code",
   "execution_count": 0,
   "metadata": {
    "colab": {},
    "colab_type": "code",
    "id": "-3EMeY9l9Ea3"
   },
   "outputs": [],
   "source": [
    "#!conda update matplotlib"
   ]
  },
  {
   "cell_type": "code",
   "execution_count": 2,
   "metadata": {
    "colab": {},
    "colab_type": "code",
    "id": "dHWzQgHTNfLb"
   },
   "outputs": [],
   "source": [
    "%matplotlib inline\n",
    "\n",
    "import matplotlib.pyplot as plt\n",
    "from sklearn.metrics import roc_curve, auc\n",
    "\n",
    "# Plot a confusion matrix.\n",
    "# cm is the confusion matrix, names are the names of the classes.\n",
    "def plot_confusion_matrix(cm, names, title='Confusion matrix', cmap=plt.cm.Blues):\n",
    "    plt.imshow(cm, interpolation='nearest', cmap=cmap)\n",
    "    plt.title(title)\n",
    "    plt.colorbar()\n",
    "    tick_marks = np.arange(len(names))\n",
    "    plt.xticks(tick_marks, names, rotation=45)\n",
    "    plt.yticks(tick_marks, names)\n",
    "    plt.tight_layout()\n",
    "    plt.ylabel('True label')\n",
    "    plt.xlabel('Predicted label')\n",
    "    \n",
    "\n",
    "# Plot an ROC. pred - the predictions, y - the expected output.\n",
    "def plot_roc(pred,y):\n",
    "    fpr, tpr, _ = roc_curve(y, pred)\n",
    "    roc_auc = auc(fpr, tpr)\n",
    "\n",
    "    plt.figure()\n",
    "    plt.plot(fpr, tpr, label='ROC curve (area = %0.2f)' % roc_auc)\n",
    "    plt.plot([0, 1], [0, 1], 'k--')\n",
    "    plt.xlim([0.0, 1.0])\n",
    "    plt.ylim([0.0, 1.05])\n",
    "    plt.xlabel('False Positive Rate')\n",
    "    plt.ylabel('True Positive Rate')\n",
    "    plt.title('Receiver Operating Characteristic (ROC)')\n",
    "    plt.legend(loc=\"lower right\")\n",
    "    plt.show()"
   ]
  },
  {
   "cell_type": "code",
   "execution_count": 0,
   "metadata": {
    "colab": {},
    "colab_type": "code",
    "id": "9mxml-2kSJXt"
   },
   "outputs": [],
   "source": [
    "####COLABORATORY\n",
    "#********correr 1 UNICA VEZ ******************\n",
    "!pip install -U -q PyDrive\n",
    " \n",
    "from pydrive.auth import GoogleAuth\n",
    "from pydrive.drive import GoogleDrive\n",
    "from google.colab import auth\n",
    "from oauth2client.client import GoogleCredentials\n",
    " \n",
    "# 1. Authenticate and create the PyDrive client.\n",
    "auth.authenticate_user()\n",
    "gauth = GoogleAuth()\n",
    "gauth.credentials = GoogleCredentials.get_application_default()\n",
    "drive = GoogleDrive(gauth)"
   ]
  },
  {
   "cell_type": "markdown",
   "metadata": {
    "colab_type": "text",
    "id": "RoRRFRSpSxet"
   },
   "source": [
    "<h3>COLABORATORY</h3>\n",
    "<p>\n",
    "ver archivos de la carpeta de la que quiero cargar archivos de entrada#tengo que tomar de la url el numero que se encuentra despues de<br/>\n",
    "  https://drive.google.com/drive/folders/<b>**1Sq2ogO0TqSJJHITbql8RwnfnYpk50Im</b>i?ogsrc=32**\n",
    "  </p>"
   ]
  },
  {
   "cell_type": "code",
   "execution_count": 16,
   "metadata": {
    "colab": {
     "base_uri": "https://localhost:8080/",
     "height": 202
    },
    "colab_type": "code",
    "executionInfo": {
     "elapsed": 1304,
     "status": "ok",
     "timestamp": 1539113381202,
     "user": {
      "displayName": "Victoria R",
      "photoUrl": "",
      "userId": "17817200221241709103"
     },
     "user_tz": 180
    },
    "id": "2T44eS6pSEvC",
    "outputId": "9d08aa7c-9148-41a8-ba4c-92576a1fc8c1"
   },
   "outputs": [
    {
     "name": "stdout",
     "output_type": "stream",
     "text": [
      "title: banmedica2018.csv, id: 15F_w8DsWZ06id9mNaMs2pbX0kc8_ZVMf\n",
      "title: banmedica2.csv, id: 1C2tjrBFMdMvcKX1Arf-MCBtGvWjTIwls\n",
      "title: TH_CONSULTA_MEDICA_20181002_2.csv, id: 16ugSgqn_gixAiFi6hh2yj-PKvTSZ7Zi0\n",
      "title: TH_CONSULTA_MEDICA1.csv, id: 1diRyA99hMMlnNSbFTFGp83LaVK3epuha\n",
      "title: mas_10_horas.csv, id: 1HBd0u9Ve3CDGUiiyunkLwZiiXz3wBYra\n",
      "title: DM_PACIENTE.csv, id: 1j6FsFp8wpy4vpMmBMxuzztioamgCIu4w\n",
      "title: DM_HORARIO.csv, id: 1kW71YfBWwRR7K8y1rx_D14EFhCPPh4XG\n",
      "title: TH_CONSULTA_MEDICA.csv, id: 1upCH4ag-eUF-Om8NmPH2vACOqu7P6mlo\n",
      "title: DM_ESPECIALIDAD.csv, id: 1Ga42LpLg0qar_wAGHQHaEjKAOx-tjwze\n",
      "title: DM_BOX.csv, id: 1hYF0LCJ4YbWoeC9LYKeY57pOPPMEfk8A\n"
     ]
    }
   ],
   "source": [
    "####COLABORATORY\n",
    "\n",
    "file_list = drive.ListFile({'q': \"'1sffZi4hkGFPBsaBycwtZZxZOX1eoKJ6H' in parents and trashed=false\"}).GetList()\n",
    "for file1 in file_list:\n",
    "  print('title: %s, id: %s' % (file1['title'], file1['id']))"
   ]
  },
  {
   "cell_type": "code",
   "execution_count": 0,
   "metadata": {
    "colab": {},
    "colab_type": "code",
    "id": "hwJrWTcYR-7F"
   },
   "outputs": [],
   "source": [
    "consulta = drive.CreateFile({'id': '1C2tjrBFMdMvcKX1Arf-MCBtGvWjTIwls'})\n",
    "consulta.GetContentFile('banmedica2.csv')\n",
    "\n",
    "\n"
   ]
  },
  {
   "cell_type": "code",
   "execution_count": 8,
   "metadata": {
    "colab": {},
    "colab_type": "code",
    "id": "7WrbnaaINfLi"
   },
   "outputs": [],
   "source": [
    "import os\n",
    "import pandas as pd\n",
    "from sklearn.model_selection import train_test_split\n",
    "import tensorflow as tf\n",
    "import numpy as np\n",
    "from sklearn import metrics\n",
    "from keras.models import Sequential\n",
    "from keras.layers.core import Dense, Activation\n",
    "from keras.callbacks import EarlyStopping\n",
    "from keras.callbacks import ModelCheckpoint\n",
    "from sys import platform\n",
    "from keras.utils import to_categorical\n",
    "\n",
    "# Set the desired TensorFlow output level for this example\n",
    "tf.logging.set_verbosity(tf.logging.ERROR)\n",
    "\n",
    "if platform =='win32':\n",
    "    db_path= 'C:/Users/mv_ra/Documents/hexagon/tensor_flow/Banmedica/BBDD/'\n",
    "elif platform == 'linux' or platform == 'linux2':\n",
    "    #db_path= '~/Documentos/hexagon/tensorFlow/BBDD/' #coco3\n",
    "    db_path='/home/victoria/Documents/tensorFlow/BBDD/' #hexagon linux\n",
    "    #db_path= '/home/victoria/Documentos/hexagon/tensorFlow/'\n",
    "    #db_path='./' #colaboratory\n",
    "    \n",
    "df = pd.read_csv( db_path+ 'banmedica2.csv', sep=';', \n",
    "                  encoding='latin-1', parse_dates= True, dayfirst=True)\n",
    "\n",
    "#especializaciones = pd.read_csv( db_path+ 'BBDD/DM_ESPECIALIDAD.csv', sep=';',encoding='latin-1' )\n",
    "  \n",
    "\n",
    "\n",
    "#'RSCM_IND_RESERVA_VIGENTE',\n",
    "feature_list=['se_presento','RSCM_PCNT_ETARIO','RSCM_CNAL_RESERVA', 'dayfoweek_reserva',\n",
    "              'PCNT_ESTADO_CIVIL','RSCM_PCNT_NUEVO','PCNT_SEXO','ESPC_NOMBRE', 'ESPC_NOMBRE_group',\n",
    "              'dias_diff_reserva_cita','dias_diff_reserva_cita_cat','month', 'hour',\n",
    "              'dayfoweek_reserva','morning','RSCM_PCNT_NUEVO',\n",
    "              'se_presento_L1','espera_ra_mas_45_m_L1', 'dias_diff_reserva_anul_group_L1',\n",
    "              'se_presento_L2','se_presento_L3', 'CANT_TURNOS_PREVIOS_L2_R_cat', \n",
    "               'CANT_TURNOS_PREVIOS_L3_R_cat']\n",
    "df1=df[feature_list].copy()\n",
    "df1.se_presento = to_categorical(df1.se_presento)\n",
    "df1['solicita_turno_mas7'] =  np.where(df1['dias_diff_reserva_cita'] >7, 1, 0)\n",
    "df1=df1.drop('dias_diff_reserva_cita', axis=1)\n",
    "\n",
    "\n",
    "\n",
    "#df1['ESPC_NOMBRE'] = df1['ESPC_NOMBRE'].cat.add_categories(especializaciones.ESPC_NOMBRE)  \n",
    "\n",
    "\n",
    "list_features= ['RSCM_PCNT_ETARIO','PCNT_SEXO', 'PCNT_ESTADO_CIVIL','RSCM_PCNT_NUEVO', \n",
    "                'ESPC_NOMBRE','ESPC_NOMBRE_group','RSCM_CNAL_RESERVA', \n",
    "                'month', 'hour','dayfoweek_reserva',\n",
    "                'dias_diff_reserva_cita_cat', \n",
    "                'se_presento_L1','espera_ra_mas_45_m_L1', 'dias_diff_reserva_anul_group_L1',\n",
    "                'se_presento_L2','se_presento_L3', 'CANT_TURNOS_PREVIOS_L2_R_cat', \n",
    "                'CANT_TURNOS_PREVIOS_L3_R_cat']\n",
    "#,'month', 'hour','dayfoweek_reserva','morning']\n",
    "#,'se_presento_L1', 'se_presento_L2','se_presento_L3']\n",
    "\n",
    "for col in list_features:\n",
    "    df1=pd.concat([df1, pd.get_dummies(df[col],prefix=col , prefix_sep='_')], axis=1)\n",
    "\n",
    "df1 = df1.loc[:,~df1.columns.duplicated()]\n",
    "\n",
    "#del list_features\n",
    "\n",
    "df1=df1.drop(list_features, axis=1)\n",
    "\n",
    "se_presento = encode_text_index(df1,'se_presento')\n",
    "num_classes = len(se_presento)\n",
    "\n",
    "del df"
   ]
  },
  {
   "cell_type": "code",
   "execution_count": 9,
   "metadata": {
    "colab": {},
    "colab_type": "code",
    "id": "E_aNQMRFNfL9"
   },
   "outputs": [
    {
     "name": "stderr",
     "output_type": "stream",
     "text": [
      "/home/victoria/anaconda3/lib/python3.6/site-packages/ipykernel_launcher.py:73: FutureWarning: Method .as_matrix will be removed in a future version. Use .values instead.\n"
     ]
    }
   ],
   "source": [
    "# Create x & y for training\n",
    "\n",
    "# Create the x-side (feature vectors) of the training\n",
    "x, y = to_xy(df1,'se_presento')\n",
    "    \n",
    "# Split into train/test\n",
    "x_train, x_test, y_train, y_test = train_test_split(    \n",
    "    x, y, test_size=0.30, random_state=42) \n",
    "\n",
    "#test_x['dayfoweek_reserva']=test_x['dayfoweek_reserva'].astype(str)\n"
   ]
  },
  {
   "cell_type": "code",
   "execution_count": null,
   "metadata": {},
   "outputs": [],
   "source": []
  },
  {
   "cell_type": "code",
   "execution_count": 11,
   "metadata": {
    "colab": {
     "base_uri": "https://localhost:8080/",
     "height": 54
    },
    "colab_type": "code",
    "executionInfo": {
     "elapsed": 30118,
     "status": "ok",
     "timestamp": 1539112974695,
     "user": {
      "displayName": "Victoria R",
      "photoUrl": "",
      "userId": "17817200221241709103"
     },
     "user_tz": 180
    },
    "id": "d7eFX7nxNfMC",
    "outputId": "7dcaebc2-38c4-4c53-a7d2-b450419f0bd3"
   },
   "outputs": [
    {
     "name": "stdout",
     "output_type": "stream",
     "text": [
      "Epoch 00007: early stopping\n",
      "Final accuracy: 0.7108114502010883\n"
     ]
    }
   ],
   "source": [
    "#solo guardo las dos primeras filas para poder ver cuales eran los features del modelo\n",
    "df1=df1.head(2)\n",
    "\n",
    "model = Sequential()\n",
    "model.add(Dense(300, input_dim=x.shape[1], activation='relu'))\n",
    "model.add(Dense(100, activation='relu'))\n",
    "model.add(Dense(10, activation='relu'))\n",
    "model.add(Dense(y.shape[1],activation='softmax'))\n",
    "model.compile(loss='categorical_crossentropy', optimizer='adam')\n",
    "monitor = EarlyStopping(monitor='val_loss', min_delta=1e-3, patience=5, verbose=1, mode='auto')\n",
    "checkpointer = ModelCheckpoint(filepath=\"best_weights.hdf5\", verbose=0, save_best_only=True) # save best model\n",
    "model.fit(x_train,y_train,validation_data=(x_test,y_test),callbacks=[monitor,checkpointer],verbose=0,epochs=1000)\n",
    "model.load_weights('best_weights.hdf5') # load weights from best model\n",
    "\n",
    "# Measure accuracy\n",
    "pred = model.predict(x_test)\n",
    "pred = np.argmax(pred,axis=1)\n",
    "y_compare = np.argmax(y_test,axis=1)\n",
    "score = metrics.accuracy_score(y_compare, pred)\n",
    "print(\"Final accuracy: {}\".format(score))"
   ]
  },
  {
   "cell_type": "code",
   "execution_count": 13,
   "metadata": {
    "colab": {
     "base_uri": "https://localhost:8080/",
     "height": 716
    },
    "colab_type": "code",
    "executionInfo": {
     "elapsed": 1442,
     "status": "ok",
     "timestamp": 1539112984214,
     "user": {
      "displayName": "Victoria R",
      "photoUrl": "",
      "userId": "17817200221241709103"
     },
     "user_tz": 180
    },
    "id": "dcS-UzHhNfMK",
    "outputId": "ef71a93e-ccf3-403f-e1fd-b30d118a76cf"
   },
   "outputs": [
    {
     "name": "stdout",
     "output_type": "stream",
     "text": [
      "Confusion matrix, without normalization\n",
      "[[16653   949]\n",
      " [ 8750  1166]]\n",
      "Normalized confusion matrix\n",
      "[[0.95 0.05]\n",
      " [0.88 0.12]]\n"
     ]
    },
    {
     "data": {
      "image/png": "[encoded data removed]",
      "text/plain": [
       "<matplotlib.figure.Figure at 0x7fa9c4ab97f0>"
      ]
     },
     "metadata": {
      "tags": []
     },
     "output_type": "display_data"
    },
    {
     "data": {
      "image/png": "[encoded data removed]",
      "text/plain": [
       "<matplotlib.figure.Figure at 0x7fa9c4879e48>"
      ]
     },
     "metadata": {
      "tags": []
     },
     "output_type": "display_data"
    }
   ],
   "source": [
    "import numpy as np\n",
    "\n",
    "from sklearn import svm, datasets\n",
    "from sklearn.model_selection import train_test_split\n",
    "from sklearn.metrics import confusion_matrix\n",
    "\n",
    "# Compute confusion matrix\n",
    "cm = confusion_matrix(y_compare, pred)\n",
    "np.set_printoptions(precision=2)\n",
    "print('Confusion matrix, without normalization')\n",
    "print(cm)\n",
    "plt.figure()\n",
    "plot_confusion_matrix(cm, se_presento)\n",
    "\n",
    "# Normalize the confusion matrix by row (i.e by the number of samples\n",
    "# in each class)\n",
    "cm_normalized = cm.astype('float') / cm.sum(axis=1)[:, np.newaxis]\n",
    "print('Normalized confusion matrix')\n",
    "print(cm_normalized)\n",
    "plt.figure()\n",
    "plot_confusion_matrix(cm_normalized, se_presento, title='Normalized confusion matrix')\n",
    "\n",
    "plt.show()"
   ]
  },
  {
   "cell_type": "code",
   "execution_count": 0,
   "metadata": {
    "colab": {},
    "colab_type": "code",
    "id": "r0dxJLc09Ech",
    "outputId": "12b2a226-5dee-4636-a94a-177b6e7d76c4"
   },
   "outputs": [
    {
     "data": {
      "text/plain": [
       "array([0, 1])"
      ]
     },
     "execution_count": 76,
     "metadata": {
      "tags": []
     },
     "output_type": "execute_result"
    },
    {
     "data": {
      "image/png": "[encoded data removed]",
      "text/plain": [
       "<Figure size 432x288 with 2 Axes>"
      ]
     },
     "metadata": {
      "tags": []
     },
     "output_type": "display_data"
    }
   ],
   "source": [
    "#cm_normalized\n",
    "#se_presento\n",
    "plt.imshow(cm_normalized, interpolation='nearest', cmap=plt.cm.Blues)\n",
    "plt.title('Confusion matrix')\n",
    "plt.colorbar()\n",
    "tick_marks = np.arange(len(se_presento))\n",
    "plt.xticks(tick_marks, se_presento, rotation=45)\n",
    "plt.yticks(tick_marks, se_presento)\n",
    "plt.tight_layout()\n",
    "plt.ylabel('True label')\n",
    "plt.xlabel('Predicted label')\n",
    "tick_marks"
   ]
  },
  {
   "cell_type": "code",
   "execution_count": 0,
   "metadata": {
    "colab": {},
    "colab_type": "code",
    "id": "X4O-oMFgNfMa",
    "outputId": "bbb911e1-57d6-48cd-c201-936e6261fdcc"
   },
   "outputs": [
    {
     "data": {
      "text/plain": [
       "array([1, 1, 1, ..., 1, 1, 0])"
      ]
     },
     "execution_count": 142,
     "metadata": {
      "tags": []
     },
     "output_type": "execute_result"
    }
   ],
   "source": [
    "pred"
   ]
  },
  {
   "cell_type": "code",
   "execution_count": 14,
   "metadata": {
    "colab": {
     "base_uri": "https://localhost:8080/",
     "height": 294
    },
    "colab_type": "code",
    "executionInfo": {
     "elapsed": 1529,
     "status": "ok",
     "timestamp": 1539113000703,
     "user": {
      "displayName": "Victoria R",
      "photoUrl": "",
      "userId": "17817200221241709103"
     },
     "user_tz": 180
    },
    "id": "DH-Q13N3NfMl",
    "outputId": "22eb22b8-a783-4c97-846b-43546b624b07"
   },
   "outputs": [
    {
     "data": {
      "image/png": "[encoded data removed]",
      "text/plain": [
       "<matplotlib.figure.Figure at 0x7fa9d0383dd8>"
      ]
     },
     "metadata": {
      "tags": []
     },
     "output_type": "display_data"
    }
   ],
   "source": [
    "pred = model.predict(x_test)\n",
    "pred = pred[:,1] # Only positive cases\n",
    "plot_roc(pred,y_compare)"
   ]
  },
  {
   "cell_type": "markdown",
   "metadata": {
    "colab_type": "text",
    "id": "3jXFWZYjbIED"
   },
   "source": [
    "<h2>Para Test</h2>"
   ]
  },
  {
   "cell_type": "code",
   "execution_count": 0,
   "metadata": {
    "colab": {},
    "colab_type": "code",
    "id": "iyNQ6En3NfMt"
   },
   "outputs": [],
   "source": [
    "consulta = drive.CreateFile({'id': '15F_w8DsWZ06id9mNaMs2pbX0kc8_ZVMf'})\n",
    "consulta.GetContentFile('banmedica2018.csv')\n"
   ]
  },
  {
   "cell_type": "code",
   "execution_count": 0,
   "metadata": {
    "colab": {},
    "colab_type": "code",
    "id": "beLj60kMNfM1"
   },
   "outputs": [],
   "source": [
    "import os\n",
    "import pandas as pd\n",
    "from sklearn.model_selection import train_test_split\n",
    "import tensorflow as tf\n",
    "import numpy as np\n",
    "from sklearn import metrics\n",
    "from keras.models import Sequential\n",
    "from keras.layers.core import Dense, Activation\n",
    "from keras.callbacks import EarlyStopping\n",
    "from keras.callbacks import ModelCheckpoint\n",
    "from sys import platform\n",
    "from keras.utils import to_categorical\n",
    "\n",
    "# Set the desired TensorFlow output level for this example\n",
    "tf.logging.set_verbosity(tf.logging.ERROR)\n",
    "\n",
    "if platform =='win32':\n",
    "    db_path= 'C:/Users/mv_ra/Documents/hexagon/tensor_flow/Banmedica/BBDD/'\n",
    "elif platform == 'linux' or platform == 'linux2':\n",
    "    #db_path= '~/Documentos/hexagon/tensorFlow/BBDD/' #coco3\n",
    "    #db_path='/home/victoria/Documents/tensorFlow/' #heagon linux\n",
    "    #db_path= '/home/victoria/Documentos/hexagon/tensorFlow/'\n",
    "    db_path='./' #colaboratory\n",
    "    \n",
    "df = pd.read_csv( db_path+ 'banmedica2018.csv', sep=';', \n",
    "                  encoding='latin-1', parse_dates= True, dayfirst=True)\n",
    "\n",
    "#'RSCM_IND_RESERVA_VIGENTE',\n",
    "feature_list=['se_presento','RSCM_PCNT_ETARIO','RSCM_CNAL_RESERVA', 'dayfoweek_reserva','PCNT_ESTADO_CIVIL','RSCM_PCNT_NUEVO','PCNT_SEXO','ESPC_NOMBRE','dias_diff_reserva_cita','dias_diff_reserva_cita_cat','month', 'hour','dayfoweek_reserva','morning','se_presento_L1','RSCM_PCNT_NUEVO','se_presento_L2','se_presento_L3']\n",
    "df_test=df[feature_list].copy()\n",
    "df_test.se_presento = to_categorical(df_test.se_presento)\n",
    "df_test['solicita_turno_mas7'] =  np.where(df_test['dias_diff_reserva_cita'] >7, 1, 0)\n",
    "df_test=df_test.drop('dias_diff_reserva_cita', axis=1)\n",
    "\n",
    "\n",
    "\n",
    "#df1['ESPC_NOMBRE'] = df1['ESPC_NOMBRE'].cat.add_categories(especializaciones.ESPC_NOMBRE)  \n",
    "#,'RSCM_IND_RESERVA_VIGENTE'\n",
    "list_features= ['RSCM_PCNT_ETARIO','PCNT_SEXO', 'ESPC_NOMBRE','RSCM_CNAL_RESERVA', 'month', 'hour','dayfoweek_reserva','PCNT_ESTADO_CIVIL','RSCM_PCNT_NUEVO', 'dias_diff_reserva_cita_cat']\n",
    "#,'month', 'hour','dayfoweek_reserva','morning']\n",
    "#,'se_presento_L1', 'se_presento_L2','se_presento_L3']\n",
    "\n",
    "for col in list_features:\n",
    "    df_test=pd.concat([df_test, pd.get_dummies(df[col],prefix=col , prefix_sep='_')], axis=1)\n",
    "\n",
    "df_test = df_test.loc[:,~df_test.columns.duplicated()]\n",
    "\n",
    "#del list_features\n",
    "\n",
    "df_test=df_test.drop(list_features, axis=1)\n",
    "\n",
    "se_presento = encode_text_index(df_test,'se_presento')\n",
    "num_classes = len(se_presento)\n",
    "\n",
    "\n"
   ]
  },
  {
   "cell_type": "code",
   "execution_count": 0,
   "metadata": {
    "colab": {},
    "colab_type": "code",
    "id": "PsvpkHcdlB0W"
   },
   "outputs": [],
   "source": [
    "#dado que el algoritmo entrena con columnas dummies las que no se encuentran debemos agregarlas\n",
    "#las filas que tienen columnas nuevas no debemos eliminarlas\n",
    "\n",
    "missing_cols = set( df1.columns ) - set( df_test.columns )\n",
    "eliminar_rows = set( df_test.columns ) - set( df1.columns )\n",
    "missing_cols\n",
    "#missing_cols2  {'ESPC_NOMBRE_DIAGNOSTICO NEUROPSICOLOGICO', 'ESPC_NOMBRE_NEUROPSICOLOGIA INFANTOJUVENIL', 'ESPC_NOMBRE_RETINA'}\n",
    "#missing_cols {'ESPC_NOMBRE_CIRUGÍA PLASTICA Y REPARADORA', 'ESPC_NOMBRE_PEDIATRIA POLI DOCENTE', 'ESPC_NOMBRE_PSICODIAGNOSTICO ADULTOS', 'ESPC_NOMBRE_PSICÓLOGA CLÍNICA'}\n",
    "\n",
    "\n",
    "# Add a missing column in test set with default value equal to 0\n",
    "df_missing_cat = pd.DataFrame({'cat': list(missing_cols)})\n",
    "\n",
    "dummies = pd.get_dummies(df_missing_cat, prefix='', prefix_sep='')\n",
    "\n",
    "for i in range(len(df_test)):\n",
    "  dummies.loc[i] = [0 for n in range(len(missing_cols))]\n",
    "  \n"
   ]
  },
  {
   "cell_type": "code",
   "execution_count": 0,
   "metadata": {
    "colab": {
     "base_uri": "https://localhost:8080/",
     "height": 34
    },
    "colab_type": "code",
    "executionInfo": {
     "elapsed": 487,
     "status": "ok",
     "timestamp": 1539020776278,
     "user": {
      "displayName": "Victoria R",
      "photoUrl": "",
      "userId": "17817200221241709103"
     },
     "user_tz": 180
    },
    "id": "w_OrmY98mIZO",
    "outputId": "de998932-065b-402f-e562-92eb5b04a9b8"
   },
   "outputs": [
    {
     "data": {
      "text/plain": [
       "(68799, 30)"
      ]
     },
     "execution_count": 21,
     "metadata": {
      "tags": []
     },
     "output_type": "execute_result"
    }
   ],
   "source": [
    "#missing_cols\n",
    "\n",
    "#dummies.loc[68798] = [0 for n in range(len(missing_cols))]\n",
    "#dummies.shape #(68799, 30)\n",
    "#df_test.shape\n",
    "#df1.shape\n"
   ]
  },
  {
   "cell_type": "code",
   "execution_count": 0,
   "metadata": {
    "colab": {},
    "colab_type": "code",
    "id": "i2R37AernCaw"
   },
   "outputs": [],
   "source": [
    "#df_test[eliminar_rows = 1]\n",
    "\n",
    "#df_test.loc[lambda df_test: eliminar_rows, :]\n",
    "  \n",
    "\n",
    "#type(eliminar_rows)\n",
    "\n",
    "#str= \n",
    "#eliminar_rows[0]\n",
    "if len(eliminar_rows) > 0:\n",
    "    eliminados = pd.DataFrame()\n",
    "\n",
    "    for c in eliminar_rows:\n",
    "      eliminados= eliminados.append(df_test[df_test[c]==1])\n",
    "      #df_test=df_test.drop(df_test[df_test[c]==1], axis=1)\n",
    "  \n",
    "    df_test[eliminados]"
   ]
  },
  {
   "cell_type": "code",
   "execution_count": 0,
   "metadata": {
    "colab": {},
    "colab_type": "code",
    "id": "zLwZNgfY9Ed-",
    "outputId": "590323a5-e1bc-41c4-c1de-8d48e2ea65d2"
   },
   "outputs": [
    {
     "data": {
      "text/plain": [
       "0"
      ]
     },
     "execution_count": 31,
     "metadata": {
      "tags": []
     },
     "output_type": "execute_result"
    }
   ],
   "source": [
    "#eliminados.head(2)\n",
    "#len(eliminar_rows)\n",
    "#print sets\n",
    "for s in eliminar_rows:\n",
    "    print(\", \".join(str(e) for e in s))\n",
    "\n",
    "#*******************************************************************\n",
    "#dummies=dummies.drop(eliminar_rows, axis=1)\n",
    "#eliminados[['ESPC_NOMBRE_DIAGNOSTICO NEUROPSICOLOGICO','ESPC_NOMBRE_NEUROPSICOLOGIA INFANTOJUVENIL','ESPC_NOMBRE_RETINA']]\n",
    "\n",
    "#eliminados\n",
    "#df_test[]\n",
    "    \n",
    "#list(eliminados)\n",
    "\n",
    "\n",
    "#result = pd.concat([df_test, dummies], axis=1)#, sort=False\n",
    "\n",
    "#df_test['ESPC_NOMBRE_DIAGNOSTICO NEUROPSICOLOGICO'==1]\n",
    "\n",
    "#list(eliminar_rows)\n",
    "\n",
    "#df1.shape\n",
    "#df_test.shape\n",
    "#dummies"
   ]
  },
  {
   "cell_type": "code",
   "execution_count": 21,
   "metadata": {
    "colab": {
     "base_uri": "https://localhost:8080/",
     "height": 35
    },
    "colab_type": "code",
    "executionInfo": {
     "elapsed": 793,
     "status": "ok",
     "timestamp": 1539114088944,
     "user": {
      "displayName": "Victoria R",
      "photoUrl": "",
      "userId": "17817200221241709103"
     },
     "user_tz": 180
    },
    "id": "YGqluCroo0ij",
    "outputId": "a7e617c3-7c81-4bad-9768-65f27c3fe884"
   },
   "outputs": [
    {
     "data": {
      "text/plain": [
       "(47273, 139)"
      ]
     },
     "execution_count": 21,
     "metadata": {
      "tags": []
     },
     "output_type": "execute_result"
    }
   ],
   "source": [
    "#print (dummies.shape[1] + df_test.shape[1], df1.shape[1])\n",
    "#len(missing_cols)-1\n",
    "\n",
    "result = pd.concat([df_test.reset_index(), dummies], axis=1)\n",
    "#result.shape\n",
    "result=result.set_index('index')\n",
    "\n",
    "cols = df1.columns.tolist()\n",
    "df_test = result[cols]\n",
    "df_test.shape"
   ]
  },
  {
   "cell_type": "code",
   "execution_count": 0,
   "metadata": {
    "colab": {},
    "colab_type": "code",
    "id": "Q-XNGVMafSO9"
   },
   "outputs": [],
   "source": [
    "# Create x & y for training\n",
    "\n",
    "# Create the x-side (feature vectors) of the training\n",
    "x2, y2 = to_xy(df_test,'se_presento')\n",
    "    \n",
    "#FutureWarning: Method .as_matrix will be removed in a future version. Use .values instead.\n"
   ]
  },
  {
   "cell_type": "code",
   "execution_count": 23,
   "metadata": {
    "colab": {
     "base_uri": "https://localhost:8080/",
     "height": 35
    },
    "colab_type": "code",
    "executionInfo": {
     "elapsed": 1766,
     "status": "ok",
     "timestamp": 1539114188005,
     "user": {
      "displayName": "Victoria R",
      "photoUrl": "",
      "userId": "17817200221241709103"
     },
     "user_tz": 180
    },
    "id": "4Yc4R4l7fef3",
    "outputId": "fec22dca-75c0-498e-9156-4533d8b26375"
   },
   "outputs": [
    {
     "name": "stdout",
     "output_type": "stream",
     "text": [
      "Final accuracy: 0.663317327015421\n"
     ]
    }
   ],
   "source": [
    "\n",
    "# Measure accuracy\n",
    "pred2 = model.predict(x2)\n",
    "pred2 = np.argmax(pred2,axis=1)\n",
    "y_compare2 = np.argmax(y2,axis=1)\n",
    "score = metrics.accuracy_score(y_compare2, pred2)\n",
    "print(\"Final accuracy: {}\".format(score))"
   ]
  },
  {
   "cell_type": "code",
   "execution_count": 24,
   "metadata": {
    "colab": {
     "base_uri": "https://localhost:8080/",
     "height": 716
    },
    "colab_type": "code",
    "executionInfo": {
     "elapsed": 1216,
     "status": "ok",
     "timestamp": 1539114195228,
     "user": {
      "displayName": "Victoria R",
      "photoUrl": "",
      "userId": "17817200221241709103"
     },
     "user_tz": 180
    },
    "id": "4uuuQYEeNfM9",
    "outputId": "fce0a935-1c68-4784-ce70-2ab2b2ee910f"
   },
   "outputs": [
    {
     "name": "stdout",
     "output_type": "stream",
     "text": [
      "Confusion matrix, without normalization\n",
      "[[29521  1817]\n",
      " [14099  1836]]\n",
      "Normalized confusion matrix\n",
      "[[0.94 0.06]\n",
      " [0.88 0.12]]\n"
     ]
    },
    {
     "data": {
      "image/png": "[encoded data removed]",
      "text/plain": [
       "<matplotlib.figure.Figure at 0x7fa9c3cc5588>"
      ]
     },
     "metadata": {
      "tags": []
     },
     "output_type": "display_data"
    },
    {
     "data": {
      "image/png": "[encoded data removed]",
      "text/plain": [
       "<matplotlib.figure.Figure at 0x7fa9c3cebbe0>"
      ]
     },
     "metadata": {
      "tags": []
     },
     "output_type": "display_data"
    }
   ],
   "source": [
    "import numpy as np\n",
    "\n",
    "from sklearn import svm, datasets\n",
    "from sklearn.model_selection import train_test_split\n",
    "from sklearn.metrics import confusion_matrix\n",
    "\n",
    "# Compute confusion matrix\n",
    "cm = confusion_matrix(y_compare2, pred2)\n",
    "np.set_printoptions(precision=2)\n",
    "print('Confusion matrix, without normalization')\n",
    "print(cm)\n",
    "plt.figure()\n",
    "plot_confusion_matrix(cm, se_presento)\n",
    "\n",
    "# Normalize the confusion matrix by row (i.e by the number of samples\n",
    "# in each class)\n",
    "cm_normalized = cm.astype('float') / cm.sum(axis=1)[:, np.newaxis]\n",
    "print('Normalized confusion matrix')\n",
    "print(cm_normalized)\n",
    "plt.figure()\n",
    "plot_confusion_matrix(cm_normalized, se_presento, title='Normalized confusion matrix')\n",
    "\n",
    "plt.show()"
   ]
  },
  {
   "cell_type": "code",
   "execution_count": 25,
   "metadata": {
    "colab": {
     "base_uri": "https://localhost:8080/",
     "height": 294
    },
    "colab_type": "code",
    "executionInfo": {
     "elapsed": 2120,
     "status": "ok",
     "timestamp": 1539114282869,
     "user": {
      "displayName": "Victoria R",
      "photoUrl": "",
      "userId": "17817200221241709103"
     },
     "user_tz": 180
    },
    "id": "7zcNH3JnNfNC",
    "outputId": "4265340d-f9d9-4cbe-834c-90fe85b7d36c"
   },
   "outputs": [
    {
     "data": {
      "image/png": "[encoded data removed]",
      "text/plain": [
       "<matplotlib.figure.Figure at 0x7fa9c466d1d0>"
      ]
     },
     "metadata": {
      "tags": []
     },
     "output_type": "display_data"
    }
   ],
   "source": [
    "pred2 = model.predict(x2)\n",
    "pred2 = pred2[:,1] # Only positive cases\n",
    "plot_roc(pred2,y_compare2)"
   ]
  },
  {
   "cell_type": "code",
   "execution_count": 0,
   "metadata": {
    "colab": {},
    "colab_type": "code",
    "id": "6CFEcegbNfOG"
   },
   "outputs": [],
   "source": []
  }
 ],
 "metadata": {
  "colab": {
   "collapsed_sections": [],
   "name": "nuevo_TensorFlow2.ipynb",
   "provenance": [],
   "version": "0.3.2"
  },
  "kernelspec": {
   "display_name": "Python 3",
   "language": "python",
   "name": "python3"
  },
  "language_info": {
   "codemirror_mode": {
    "name": "ipython",
    "version": 3
   },
   "file_extension": ".py",
   "mimetype": "text/x-python",
   "name": "python",
   "nbconvert_exporter": "python",
   "pygments_lexer": "ipython3",
   "version": "3.6.5"
  }
 },
 "nbformat": 4,
 "nbformat_minor": 1
}
